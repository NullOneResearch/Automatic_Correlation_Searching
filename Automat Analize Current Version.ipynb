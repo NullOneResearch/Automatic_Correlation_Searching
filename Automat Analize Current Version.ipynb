{
 "cells": [
  {
   "cell_type": "code",
   "execution_count": null,
   "metadata": {
    "code_folding": [
     0
    ]
   },
   "outputs": [],
   "source": [
    "def log_progress(sequence, every=None, size=None, name='Items'):\n",
    "    from ipywidgets import IntProgress, HTML, VBox\n",
    "    from IPython.display import display\n",
    "\n",
    "    is_iterator = False\n",
    "    if size is None:\n",
    "        try:\n",
    "            size = len(sequence)\n",
    "        except TypeError:\n",
    "            is_iterator = True\n",
    "    if size is not None:\n",
    "        if every is None:\n",
    "            if size <= 200:\n",
    "                every = 1\n",
    "            else:\n",
    "                every = int(size / 200)     # every 0.5%\n",
    "    else:\n",
    "        assert every is not None, 'sequence is iterator, set every'\n",
    "\n",
    "    if is_iterator:\n",
    "        progress = IntProgress(min=0, max=1, value=1)\n",
    "        progress.bar_style = 'info'\n",
    "    else:\n",
    "        progress = IntProgress(min=0, max=size, value=0)\n",
    "    label = HTML()\n",
    "    box = VBox(children=[label, progress])\n",
    "    display(box)\n",
    "\n",
    "    index = 0\n",
    "    try:\n",
    "        for index, record in enumerate(sequence, 1):\n",
    "            if index == 1 or index % every == 0:\n",
    "                if is_iterator:\n",
    "                    label.value = '{name}: {index} / ?'.format(\n",
    "                        name=name,\n",
    "                        index=index\n",
    "                    )\n",
    "                else:\n",
    "                    progress.value = index\n",
    "                    label.value = u'{name}: {index} / {size}'.format(\n",
    "                        name=name,\n",
    "                        index=index,\n",
    "                        size=size\n",
    "                    )\n",
    "            yield record\n",
    "    except:\n",
    "        progress.bar_style = 'danger'\n",
    "        raise\n",
    "    else:\n",
    "        progress.bar_style = 'success'\n",
    "        progress.value = index\n",
    "        label.value = \"{name}: {index}\".format(\n",
    "            name=name,\n",
    "            index=str(index or '?')\n",
    "        )"
   ]
  },
  {
   "cell_type": "code",
   "execution_count": null,
   "metadata": {},
   "outputs": [],
   "source": [
    "import pyreadstat\n",
    "import pandas as pd\n",
    "import numpy as np\n",
    "import matplotlib.pyplot as plt\n",
    "\n",
    "%matplotlib inline"
   ]
  },
  {
   "cell_type": "code",
   "execution_count": null,
   "metadata": {},
   "outputs": [],
   "source": [
    "from scipy.stats import norm\n",
    "import seaborn as sns\n",
    "from collections import Counter\n",
    "import plotly.express as px"
   ]
  },
  {
   "cell_type": "raw",
   "metadata": {},
   "source": [
    "df = pd.read_excel ('Новая форма (Ответы).xlsx') #здесь мы импрортируем любую удобную нам БД, формат эксель"
   ]
  },
  {
   "cell_type": "code",
   "execution_count": null,
   "metadata": {},
   "outputs": [],
   "source": [
    "df, meta = pyreadstat.read_sav(\"r27hall31.sav\", apply_value_formats=True, formats_as_category=False, user_missing=False) #импорт для файлов типа sav\n",
    "\n",
    "df.columns = df.columns +' ' + meta.column_labels"
   ]
  },
  {
   "cell_type": "code",
   "execution_count": null,
   "metadata": {},
   "outputs": [],
   "source": [
    "pd.set_option('display.max_colwidth', -1)"
   ]
  },
  {
   "cell_type": "raw",
   "metadata": {
    "scrolled": true
   },
   "source": [
    "df.T[:100] #техническая ячейка"
   ]
  },
  {
   "cell_type": "code",
   "execution_count": null,
   "metadata": {},
   "outputs": [],
   "source": [
    "#получаем список имен столбиков\n",
    "colnames = list(df.columns)\n",
    "binaries = []"
   ]
  },
  {
   "cell_type": "raw",
   "metadata": {},
   "source": [
    "#использовать в случае, если кто-то заранее задал даммис для множественных ответов\n",
    "for i in colnames:\n",
    "    if len(df[i].value_counts()) == 1:\n",
    "        binaries.append(i)\n",
    "\n",
    "fff = []\n",
    "for i in binaries:\n",
    "    fff.append(df[i].value_counts().index.tolist())\n",
    "    df[i].fillna('g', inplace = True)\n",
    "    \n",
    "z = 0\n",
    "for i in binaries:\n",
    "    df[i] = df[i].astype(str).str.contains('|'.join(str(x) for x in fff[z]))\n",
    "    df[i] *= 1\n",
    "    z+=1\n",
    "    \n",
    "colnames = (list((set(colnames) - set(binaries))))"
   ]
  },
  {
   "cell_type": "code",
   "execution_count": null,
   "metadata": {},
   "outputs": [],
   "source": [
    "df.info() #техническая ячейка"
   ]
  },
  {
   "cell_type": "code",
   "execution_count": null,
   "metadata": {},
   "outputs": [],
   "source": [
    "#если дропаем определенные значения ячеек (вариант для большого количества пропусков) - активировать ячейку\n",
    "#df.drop(df.loc[df['Являетесь ли Вы студентом российского вуза?']=='Нет'].index, inplace=True) - на случай, если происходит нечто совершенно специфическое\n",
    "\n",
    "#и заменяем пропуски в разных столбцах\n",
    "\n",
    "for i in colnames:\n",
    "    if(df[i].dtype == np.object):\n",
    "        df[i].fillna('пропуск', inplace = True)\n",
    "        \n",
    "    if(df[i].dtype == np.int32):\n",
    "        df[i].fillna(df[i].mean(), inplace = True)\n",
    "        \n",
    "    if(df[i].dtype == np.float64):\n",
    "        df[i].fillna(df[i].mean(), inplace = True)"
   ]
  },
  {
   "cell_type": "raw",
   "metadata": {},
   "source": [
    "df = df.dropna()"
   ]
  },
  {
   "cell_type": "code",
   "execution_count": null,
   "metadata": {},
   "outputs": [],
   "source": [
    "df1 = df.copy()\n",
    "df = df.dropna(axis='columns')\n",
    "len(df)"
   ]
  },
  {
   "cell_type": "code",
   "execution_count": null,
   "metadata": {},
   "outputs": [],
   "source": [
    "print(set(df1.columns) - set(df.columns))"
   ]
  },
  {
   "cell_type": "code",
   "execution_count": null,
   "metadata": {},
   "outputs": [],
   "source": [
    "#получаем новый список имен столбиков (на случай, если была чистка пустых столбиков)\n",
    "colnames = list(df.columns)\n",
    "binaries = []"
   ]
  },
  {
   "cell_type": "code",
   "execution_count": null,
   "metadata": {},
   "outputs": [],
   "source": [
    "scale = []\n",
    "nominal = []\n",
    "ordinal = []\n",
    "nominal_with_free_answers = []\n",
    "\n",
    "partly_ordinal = [] # список для тех ординальных, у которых есть отклонения\n",
    "free_answers = []\n",
    "multiple_answers = []"
   ]
  },
  {
   "cell_type": "code",
   "execution_count": null,
   "metadata": {
    "code_folding": [],
    "scrolled": true
   },
   "outputs": [],
   "source": [
    "for i in colnames:\n",
    "    if(df[i].dtype == np.object):\n",
    "        df[i] = df[i].str.replace('(', '.')\n",
    "        df[i] = df[i].str.replace(')', '.')"
   ]
  },
  {
   "cell_type": "code",
   "execution_count": null,
   "metadata": {},
   "outputs": [],
   "source": [
    "#1. сперва создать список с названиями столбиков\n",
    "#2. путем итераций обработать по отдельности каждый столбик \n",
    "#3. по выделенным маркерам добавить каждый столбик в список по типам\n",
    "\n",
    "#ищем scale\n",
    "for i in colnames:\n",
    "    if(df[i].dtype == np.float64 or df[i].dtype == np.int64):\n",
    "        if len(df[i].value_counts()) > 10:\n",
    "            scale.append(i)\n",
    "        else:\n",
    "            ordinal.append(i)"
   ]
  },
  {
   "cell_type": "code",
   "execution_count": null,
   "metadata": {},
   "outputs": [],
   "source": [
    "a = []"
   ]
  },
  {
   "cell_type": "code",
   "execution_count": null,
   "metadata": {
    "code_folding": [
     0
    ]
   },
   "outputs": [],
   "source": [
    "match = ['хорошо', \n",
    "         'нормально', \n",
    "         'плохо', \n",
    "         'слабо', \n",
    "         'средне', \n",
    "         'сильно', \n",
    "         '18-24', \n",
    "         '25-34', \n",
    "         '35-44', \n",
    "         '45-54', \n",
    "         'от 55', \n",
    "         'Среднее общее', \n",
    "         'Среднее профессиональное', \n",
    "         'Неоконченное высшее', \n",
    "         'Высшее', \n",
    "         'Уровень дохода крайне низкий,денег не хватает даже на питание', \n",
    "         'На питание денег хватает, но с покупкой одежды бывают трудности', \n",
    "         'Покупка продуктов питания и одежды не вызывает трудностей, но для приобретения предметов длительного пользования .холодильник, телевизор. приходится брать взаймы', \n",
    "         'В целом, материальных проблем нет, но покупка действительно дорогих вещей .машина, квартира. вызывает затруднение', \n",
    "         'Нет материальных проблем, могу легко позволить себе недвижимость или машину',\n",
    "         'студент специалитета',\n",
    "         'студент бакалавриата',\n",
    "         'студент магистратуры',\n",
    "         'студент аспирантуры',\n",
    "         'Нет, это невозможно',\n",
    "         'Скорее невозможно',\n",
    "         'Затрудняюсь ответить',\n",
    "         'g',\n",
    "         'Скорее возможно',\n",
    "         'Да, это возможно',\n",
    "         'Важно',\n",
    "         'Скорее важно',\n",
    "         'g',\n",
    "         'Затрудняюсь ответить',\n",
    "         'Скорее не важно',\n",
    "         'Совершенно не важно',\n",
    "         'Да, слышал и принимал участие',\n",
    "         'Слышал, но не принимал участия',\n",
    "         'g',\n",
    "         'Нет, не слышал.',\n",
    "         'Да, считаю это важным',\n",
    "         'Не имею четкой позиции, мне все равно',\n",
    "         'g',\n",
    "         'Нет, не поддерживаю']\n",
    "#в список нельзя добавлять элементы со скобками\n",
    "#на основе списков строится словарь для распознавания Ordinal шкалы"
   ]
  },
  {
   "cell_type": "code",
   "execution_count": null,
   "metadata": {},
   "outputs": [],
   "source": [
    "rep = [3,2,1, 1,2,3, 1,2,3,4,5, 1,2,3,4, 1,2,3,4,5, 1,2,3,4, 1,2,3,3,4,5, 5,4,3,3,2,1, 3,2,1,1, 3,2,2,1]\n",
    "len(rep)"
   ]
  },
  {
   "cell_type": "code",
   "execution_count": null,
   "metadata": {},
   "outputs": [],
   "source": [
    "change_dict = dict(zip(match, rep))"
   ]
  },
  {
   "cell_type": "code",
   "execution_count": null,
   "metadata": {
    "scrolled": true
   },
   "outputs": [],
   "source": [
    "change_dict"
   ]
  },
  {
   "cell_type": "code",
   "execution_count": null,
   "metadata": {},
   "outputs": [],
   "source": [
    "def string_finder(row, words):\n",
    "    if any(word in field for field in row for word in words):\n",
    "        return True\n",
    "    return False\n"
   ]
  },
  {
   "cell_type": "code",
   "execution_count": null,
   "metadata": {
    "code_folding": []
   },
   "outputs": [],
   "source": [
    "#деревья решений\n",
    "\n",
    "n = 0\n",
    "for i in colnames:\n",
    "    if(df[i].dtype == np.object):\n",
    "        a.append(i)\n",
    "        n+=1\n",
    "    \n",
    "        #определяем, содержит ли столбик значения из словаря Ordinal в достаточном количестве\n",
    "        for i1 in a: #i1 - это названия колонок по порядку\n",
    "            wrkdf = df[i1].str.contains('|'.join(match)).value_counts()\n",
    "            try:\n",
    "                if wrkdf[0] < wrkdf[1]*5: #Если труъ больше, чем фолс / возможно, надо будет додумать какие-то пропорции, но пока так\n",
    "                    partly_ordinal.append(i1)\n",
    "                else:\n",
    "                    if len(df[i1].value_counts()) > 10: #более десяти оригинальных текстовых ответов\n",
    "                        count = df[i1].value_counts()\n",
    "                        count0 = pd.DataFrame(count).T.columns.value_counts()\n",
    "\n",
    "                        datframe = pd.DataFrame(count0)\n",
    "                        datframe['index'] = datframe.index\n",
    "                        wrkdf = datframe['index'].index.str.contains('|'.join(','))\n",
    "                        wrkdf = pd.DataFrame(wrkdf)[0].value_counts()\n",
    "\n",
    "                        try:\n",
    "                            if wrkdf[0] < wrkdf[1]: #Если труъ больше, чем фолс, запятых больше\n",
    "                                multiple_answers.append(i1)\n",
    "                            else:    #определяем, свободные ответы или номинальная с ф-цией сврбодных ответов\n",
    "                                if np.std(df[i1].value_counts()) > 8:\n",
    "                                    nominal_with_free_answers.append(i1)\n",
    "                                else:\n",
    "                                    free_answers.append(i1) \n",
    "                        except:\n",
    "                            pass\n",
    "    \n",
    "                        if len(wrkdf) == 1 and list(pd.DataFrame(wrkdf).T.columns)[0] == True: #все с запятыми\n",
    "                            multiple_answers.append(i1)\n",
    "                \n",
    "                        if len(wrkdf) == 1 and list(pd.DataFrame(wrkdf).T.columns)[0] == False: #все без запятых\n",
    "                            if np.std(df[i1].value_counts()) > 8:\n",
    "                                nominal_with_free_answers.append(i1)\n",
    "                            if np.std(df[i1].value_counts()) < 8 or np.std(df[i1].value_counts()) == 8:\n",
    "                                free_answers.append(i1) \n",
    "            except:\n",
    "                pass\n",
    "            \n",
    "            if len(wrkdf) == 1 and list(pd.DataFrame(wrkdf).T.columns)[0] == True: #В листе только совпадения и он из одной ячейки\n",
    "                ordinal.append(i1) \n",
    "    \n",
    "            if len(wrkdf) == 1 and list(pd.DataFrame(wrkdf).T.columns)[0] == False: #В листе вообще нет совпадений по словарю Ordinal\n",
    "                if len(df[i1].value_counts()) > 10: #более десяти оригинальных текстовых ответов\n",
    "                    count = df[i1].value_counts()\n",
    "                    count0 = pd.DataFrame(count).T.columns.value_counts()\n",
    "\n",
    "                    datframe = pd.DataFrame(count0)\n",
    "                    datframe['index'] = datframe.index\n",
    "                    wrkdf = datframe['index'].index.str.contains('|'.join(','))\n",
    "                    wrkdf = pd.DataFrame(wrkdf)[0].value_counts()\n",
    "\n",
    "                    try:\n",
    "                        if wrkdf[0] < wrkdf[1]: #Если труъ больше, чем фолс, запятых больше\n",
    "                            multiple_answers.append(i1)\n",
    "                        else:    #определяем, свободные ответы или номинальная с ф-цией сврбодных ответов\n",
    "                            if np.std(df[i1].value_counts()) > 8:\n",
    "                                nominal_with_free_answers.append(i1)\n",
    "                            else:\n",
    "                                free_answers.append(i1) \n",
    "                    except:\n",
    "                        pass\n",
    "    \n",
    "                    if len(wrkdf) == 1 and list(pd.DataFrame(wrkdf).T.columns)[0] == True: #все с запятыми\n",
    "                        multiple_answers.append(i1)\n",
    "                \n",
    "                    if len(wrkdf) == 1 and list(pd.DataFrame(wrkdf).T.columns)[0] == False: #все без запятых\n",
    "                        if np.std(df[i1].value_counts()) > 8:\n",
    "                                nominal_with_free_answers.append(i1)\n",
    "                        if np.std(df[i1].value_counts()) < 8 or np.std(df[i1].value_counts()) == 8:\n",
    "                            free_answers.append(i1) \n",
    "                    \n",
    "                    \n",
    "                            \n",
    "                else:\n",
    "                    nominal.append(i1) #если меньше десяти, то уходит в номинальную\n",
    "\n",
    "            \n",
    "        "
   ]
  },
  {
   "cell_type": "code",
   "execution_count": null,
   "metadata": {},
   "outputs": [],
   "source": [
    "nominal = set(nominal)\n",
    "scale = set(scale)\n",
    "\n",
    "ordinal = set(ordinal)\n",
    "nominal_with_free_answers = set(nominal_with_free_answers)\n",
    "\n",
    "partly_ordinal = set(partly_ordinal) # список для тех ординальных, у которых есть отклонения\n",
    "free_answers = set(free_answers)\n",
    "multiple_answers = set(multiple_answers)"
   ]
  },
  {
   "cell_type": "code",
   "execution_count": null,
   "metadata": {},
   "outputs": [],
   "source": [
    "print(len(colnames))\n",
    "print(len(nominal) + len(scale)+len(ordinal)+len(nominal_with_free_answers)+len(partly_ordinal)+len(free_answers)+len(multiple_answers))\n",
    "\n",
    "#проверка, не упустили ли мы при использовании десижн триз какие-то шкалы"
   ]
  },
  {
   "cell_type": "code",
   "execution_count": null,
   "metadata": {},
   "outputs": [],
   "source": [
    "check = []\n",
    "types = [list(nominal), list(scale), list(ordinal), list(nominal_with_free_answers), list(partly_ordinal), list(free_answers), list(multiple_answers)]"
   ]
  },
  {
   "cell_type": "code",
   "execution_count": null,
   "metadata": {},
   "outputs": [],
   "source": [
    "for i in types:\n",
    "    for i in i:\n",
    "        check.append(i)\n"
   ]
  },
  {
   "cell_type": "code",
   "execution_count": null,
   "metadata": {},
   "outputs": [],
   "source": [
    "result=list(set(colnames) - set(check))\n",
    "result\n",
    "#тут мы узнаём, какие именно ячейки выпали при десижн триз. Если это метки времени, то всё нормально"
   ]
  },
  {
   "cell_type": "code",
   "execution_count": null,
   "metadata": {},
   "outputs": [],
   "source": [
    "#тут мы смотрим, какие столбцы в какие категории попали\n",
    "\n",
    "multiple_answers"
   ]
  },
  {
   "cell_type": "code",
   "execution_count": null,
   "metadata": {},
   "outputs": [],
   "source": [
    "nominal"
   ]
  },
  {
   "cell_type": "code",
   "execution_count": null,
   "metadata": {},
   "outputs": [],
   "source": [
    "nominal_with_free_answers"
   ]
  },
  {
   "cell_type": "code",
   "execution_count": null,
   "metadata": {},
   "outputs": [],
   "source": [
    "free_answers"
   ]
  },
  {
   "cell_type": "code",
   "execution_count": null,
   "metadata": {},
   "outputs": [],
   "source": [
    "ordinal"
   ]
  },
  {
   "cell_type": "code",
   "execution_count": null,
   "metadata": {},
   "outputs": [],
   "source": [
    "scale"
   ]
  },
  {
   "cell_type": "code",
   "execution_count": null,
   "metadata": {},
   "outputs": [],
   "source": [
    "for i in ordinal: #автоматическая перекодировка по словарю\n",
    "    if(df[i].dtype == np.object):\n",
    "        df[i].replace(change_dict,inplace=True)\n",
    "#надо будет добавить лог замен"
   ]
  },
  {
   "cell_type": "code",
   "execution_count": null,
   "metadata": {},
   "outputs": [],
   "source": [
    "\n",
    "\n",
    "for i in nominal_with_free_answers:\n",
    "    ff = []\n",
    "    z = 0\n",
    "    \n",
    "    for x in df[i].value_counts(): #определяем номинальные индексы без \"другого\"\n",
    "            \n",
    "        if x/len(df[i]) > 0.05:\n",
    "            ff.append(df[i].value_counts().index.tolist()[z]) #фильтр для датафрейма\n",
    "        z +=1 \n",
    "   \n",
    "    \n",
    "    df_filter = df[i].isin(ff) \n",
    "    df[i+' (закрытые ответы)'] = df[df_filter][i]\n",
    "    df[i+' (закрытые ответы)'].fillna(('другое'), inplace=True)\n",
    "    df[i+' (открытые ответы)'] = df[~df_filter][i]\n",
    "    \n",
    "    #добавляем закрытые ответы в nominal, открытые - во free_answers\n",
    "    \n",
    "    a = str(i+' (закрытые ответы)')\n",
    "    b = str(i+' (открытые ответы)')\n",
    "    \n",
    "    #добавляем в релевантные группы\n",
    "    nominal.add(a)\n",
    "    free_answers.add(b)"
   ]
  },
  {
   "cell_type": "code",
   "execution_count": null,
   "metadata": {},
   "outputs": [],
   "source": [
    "free_answers"
   ]
  },
  {
   "cell_type": "code",
   "execution_count": null,
   "metadata": {},
   "outputs": [],
   "source": [
    "multiple_answers"
   ]
  },
  {
   "cell_type": "code",
   "execution_count": null,
   "metadata": {},
   "outputs": [],
   "source": [
    "for i in multiple_answers:\n",
    "    newlist = []\n",
    "    mylist = list(df[i])\n",
    "    for element in mylist:\n",
    "       newlist.extend(element.split(',')) #множим элемементы через запятую\n",
    "\n",
    "    newlist = [x.strip(' ') for x in newlist] #удаляем пробелы в начале и конце\n",
    "    \n",
    "    dfdf = pd.DataFrame(newlist)\n",
    "    dfdf[0].value_counts()\n",
    "    \n",
    "    ff = []\n",
    "    z = 0\n",
    "    for x in dfdf[0].value_counts(): #частотный анализ в строках\n",
    "        if x/len(dfdf[0]) > 0.05:\n",
    "            ff.append(dfdf[0].value_counts().index.tolist()[z])\n",
    "        z+=1\n",
    "    \n",
    "    df['открытые ответы _ ' + i] = df[i]\n",
    "    \n",
    "    for e in ff:\n",
    "        df[e + ' _ ' + i] = df[i].str.contains('|'.join(e)) #создаем новые столбцы\n",
    "        binaries.append(e + ' _ ' + i)\n",
    "        df[e + ' _ ' + i] *= 1 #меняем тру/фолс на 1/0\n",
    "        \n",
    "        df['открытые ответы _ ' + i] = df['открытые ответы _ ' + i].str.replace(',', ' ')\n",
    "        df['открытые ответы _ ' + i] = df['открытые ответы _ ' + i].str.replace(e, '')\n",
    "        \n",
    "        free_answers.add('открытые ответы _ ' + i)"
   ]
  },
  {
   "cell_type": "markdown",
   "metadata": {},
   "source": [
    "# Второй этап"
   ]
  },
  {
   "cell_type": "markdown",
   "metadata": {},
   "source": [
    "binaries - лист с даммис по бинарным ответам\n",
    "\n",
    "types - список всех остальных форматов\n",
    "(types = [list(nominal), list(scale), list(ordinal), list(nominal_with_free_answers), list(partly_ordinal), list(free_answers), list(multiple_answers)])\n",
    "\n",
    "их миксуем:\n",
    "scale \n",
    "nominal \n",
    "ordinal \n",
    "+ binaries - частный пример ordinai (соединил с ординал)\n",
    "\n",
    "free_answers - по ним просто проводим семантический частотный анализ, не участвуют в общей тасовке\n",
    "\n",
    "nominal_with_free_answers - переформировано в закрытые ответы (в номинал) и в открытые ответы (в фри энсерс)\n",
    "partly_ordinal - список для тех ординальных, у которых есть отклонения. Отправляется в переработку\n",
    "multiple_answers - заменены на binaries и free answers\n"
   ]
  },
  {
   "cell_type": "code",
   "execution_count": null,
   "metadata": {},
   "outputs": [],
   "source": [
    "mix_list = ('scale', 'nominal', 'ordinal')"
   ]
  },
  {
   "cell_type": "code",
   "execution_count": null,
   "metadata": {},
   "outputs": [],
   "source": [
    "ordinal = ordinal.union(set(binaries)) #объединим бинарис с ординал"
   ]
  },
  {
   "cell_type": "code",
   "execution_count": null,
   "metadata": {},
   "outputs": [],
   "source": [
    "import itertools\n",
    "\n",
    "c = list(itertools.product(mix_list, repeat=2))"
   ]
  },
  {
   "cell_type": "code",
   "execution_count": null,
   "metadata": {},
   "outputs": [],
   "source": [
    "c"
   ]
  },
  {
   "cell_type": "markdown",
   "metadata": {},
   "source": [
    "пирсон:\n",
    "('scale', 'scale'),\n",
    "\n",
    "спирман:\n",
    " ('scale', 'ordinal'),\n",
    " ('ordinal', 'ordinal')\n",
    "\n",
    "хи-квадрат:\n",
    " ('nominal', 'scale'),\n",
    " ('nominal', 'nominal'),\n",
    " ('nominal', 'ordinal'),\n"
   ]
  },
  {
   "cell_type": "code",
   "execution_count": null,
   "metadata": {},
   "outputs": [],
   "source": [
    "pearson = list(itertools.combinations(scale, 2))\n",
    "pearson = set(pearson)"
   ]
  },
  {
   "cell_type": "code",
   "execution_count": null,
   "metadata": {},
   "outputs": [],
   "source": [
    "spearman = list(itertools.combinations(scale.union(ordinal), 2))\n",
    "spearman.extend(list(itertools.combinations(ordinal, 2)))\n",
    "spearman = set(spearman)"
   ]
  },
  {
   "cell_type": "code",
   "execution_count": null,
   "metadata": {},
   "outputs": [],
   "source": [
    "chi_square = list(itertools.combinations(nominal.union(scale), 2))\n",
    "chi_square.extend(list(itertools.combinations(nominal, 2)))\n",
    "chi_square.extend(list(itertools.combinations(nominal.union(ordinal), 2))) #вариант без пар, внутри которых оба элемента одинаковые\n",
    "chi_square = set(chi_square)"
   ]
  },
  {
   "cell_type": "code",
   "execution_count": null,
   "metadata": {},
   "outputs": [],
   "source": [
    "chi_square = chi_square - spearman\n",
    "spearman = spearman - pearson"
   ]
  },
  {
   "cell_type": "code",
   "execution_count": null,
   "metadata": {},
   "outputs": [],
   "source": [
    "from scipy.stats.stats import pearsonr\n",
    "\n",
    "pearson_fin = []\n",
    "\n",
    "for i in pearson:\n",
    "    pearson_fin.append(pearsonr(df[i[0]], df[i[1]]))"
   ]
  },
  {
   "cell_type": "code",
   "execution_count": null,
   "metadata": {},
   "outputs": [],
   "source": [
    "spear_fin = []\n",
    "\n",
    "from scipy import stats\n",
    "\n",
    "for i in spearman:\n",
    "    spear_fin.append(stats.spearmanr(df[i[0]], df[i[1]]))\n"
   ]
  },
  {
   "cell_type": "code",
   "execution_count": null,
   "metadata": {},
   "outputs": [],
   "source": [
    "import scipy\n",
    "\n",
    "chi_square_fin = []\n",
    "\n",
    "for i in chi_square:\n",
    "    table = pd.crosstab(df[i[0]], df[i[1]])\n",
    "    chi2, prob, daf, expected = scipy.stats.chi2_contingency(table)\n",
    "    chi_square_fin.append(float('{:.6f}'.format(prob))) #ограничитель на 6 цифр после запятой\n",
    "    "
   ]
  },
  {
   "cell_type": "code",
   "execution_count": null,
   "metadata": {},
   "outputs": [],
   "source": [
    "chi_square_fin_frame = pd.DataFrame(chi_square_fin)\n",
    "\n",
    "if len(chi_square_fin) !=0:\n",
    "    chi_square_fin_frame = chi_square_fin_frame.astype(np.float16)\n",
    "    chi_square_fin_frame['pair'] = chi_square\n",
    "    chi_square_fin_frame.rename(columns={0: 'pvalue'}, inplace=True)\n",
    "    chi_square_fin_frame = chi_square_fin_frame.sort_values('pvalue')\n",
    "    chi_square_fin_frame = chi_square_fin_frame.reset_index()\n",
    "    del chi_square_fin_frame['index']\n",
    "\n",
    "    qq = chi_square_fin_frame\n",
    "\n",
    "    qq['pvalue level'] = qq['pvalue']\n",
    "    qq.loc[qq['pvalue'] < 0.5, 'pvalue level'] = 'значимо'\n",
    "    qq.loc[qq['pvalue'] < 0.3, 'pvalue level'] = 'крайне значимо'\n",
    "    qq.loc[qq['pvalue'] > 0.5, 'pvalue level'] = 'не значимо'\n",
    "    qq.loc[qq['pvalue'] == 0.5, 'pvalue level'] = 'не значимо'\n",
    "    \n",
    "else:\n",
    "    print('нет корреляций по хи-квадрату')\n",
    "    \n",
    "chi_square_fin_frame[:200]"
   ]
  },
  {
   "cell_type": "code",
   "execution_count": null,
   "metadata": {},
   "outputs": [],
   "source": [
    "if len(chi_square_fin) !=0:\n",
    "    writer = pd.ExcelWriter('chi_square.xlsx', engine='xlsxwriter')\n",
    "\n",
    "    chi_square_fin_frame.to_excel(writer,\n",
    "                    sheet_name='Sheet_name_1')\n",
    "\n",
    "    writer.save()\n",
    "else:\n",
    "    print('нет корреляций по хи-квадрату')"
   ]
  },
  {
   "cell_type": "code",
   "execution_count": null,
   "metadata": {},
   "outputs": [],
   "source": [
    "spear_frame = pd.DataFrame(spear_fin)\n",
    "\n",
    "if len(spear_fin) !=0:\n",
    "    spear_frame = spear_frame.astype(np.float16)\n",
    "\n",
    "    spear_frame['pair'] = spearman\n",
    "\n",
    "    spear_frame = spear_frame.sort_values('correlation', ascending=False)\n",
    "    spear_frame = spear_frame.reset_index()\n",
    "    del spear_frame['index']\n",
    "\n",
    "\n",
    "    spear_frame = spear_frame.dropna()\n",
    "\n",
    "    qq = spear_frame\n",
    "    qq['corr level'] = qq['correlation']\n",
    "    qq.loc[qq['correlation'] == 0, 'corr level'] = 'отсутствует'\n",
    "    qq.loc[qq['correlation'] > 0, 'corr level'] = 'слабая прямая'\n",
    "    qq.loc[qq['correlation'] > 0.34, 'corr level'] = 'умеренная прямая'\n",
    "    qq.loc[qq['correlation'] > 0.67, 'corr level'] = 'сильная прямая'\n",
    "\n",
    "    qq.loc[qq['correlation'] < 0, 'corr level'] = 'слабая обратная'\n",
    "    qq.loc[qq['correlation'] < -0.34, 'corr level'] = 'умеренная обратная'\n",
    "    qq.loc[qq['correlation'] < -0.67, 'corr level'] = 'сильная обратная'\n",
    "\n",
    "    qq['pvalue level'] = qq['pvalue']\n",
    "    qq.loc[qq['pvalue'] < 0.5, 'pvalue level'] = 'значимо'\n",
    "    qq.loc[qq['pvalue'] < 0.3, 'pvalue level'] = 'крайне значимо'\n",
    "    qq.loc[qq['pvalue'] > 0.5, 'pvalue level'] = 'не значимо'\n",
    "    qq.loc[qq['pvalue'] == 0.5, 'pvalue level'] = 'не значимо'\n",
    "\n",
    "    \n",
    "else:\n",
    "    print('нет корреляций по спирмену')\n",
    "    \n",
    "spear_frame[:1000]"
   ]
  },
  {
   "cell_type": "code",
   "execution_count": null,
   "metadata": {},
   "outputs": [],
   "source": [
    "if len(spear_fin) !=0:\n",
    "    writer = pd.ExcelWriter('spearman.xlsx', engine='xlsxwriter')\n",
    "\n",
    "    spear_frame.to_excel(writer,\n",
    "                    sheet_name='Sheet_name_1')\n",
    "\n",
    "    writer.save()\n",
    "else:\n",
    "    print('нет корреляций по спирмену')"
   ]
  },
  {
   "cell_type": "code",
   "execution_count": null,
   "metadata": {},
   "outputs": [],
   "source": [
    "pearson_frame = pd.DataFrame(pearson_fin)\n",
    "\n",
    "if len(pearson_fin) !=0:\n",
    "    pearson_frame = pearson_frame.astype(np.float16)\n",
    "    pearson_frame['pair'] = pearson\n",
    "    pearson_frame.rename(columns={0: 'correlation', 1: 'pvalue'}, inplace=True)\n",
    "\n",
    "    pearson_frame = pearson_frame.sort_values('correlation', ascending=False)\n",
    "    pearson_frame = pearson_frame.reset_index()\n",
    "    del pearson_frame['index']\n",
    "\n",
    "    pearson_frame = pearson_frame.dropna()\n",
    "\n",
    "    qq = pearson_frame\n",
    "    qq['corr level'] = qq['correlation']\n",
    "    qq.loc[qq['correlation'] == 0, 'corr level'] = 'отсутствует'\n",
    "    qq.loc[qq['correlation'] > 0, 'corr level'] = 'слабая прямая'\n",
    "    qq.loc[qq['correlation'] > 0.34, 'corr level'] = 'умеренная прямая'\n",
    "    qq.loc[qq['correlation'] > 0.67, 'corr level'] = 'сильная прямая'\n",
    "\n",
    "    qq.loc[qq['correlation'] < 0, 'corr level'] = 'слабая обратная'\n",
    "    qq.loc[qq['correlation'] < -0.34, 'corr level'] = 'умеренная обратная'\n",
    "    qq.loc[qq['correlation'] < -0.67, 'corr level'] = 'сильная обратная'\n",
    "\n",
    "    qq['pvalue level'] = qq['pvalue']\n",
    "    qq.loc[qq['pvalue'] < 0.5, 'pvalue level'] = 'значимо'\n",
    "    qq.loc[qq['pvalue'] < 0.3, 'pvalue level'] = 'крайне значимо'\n",
    "    qq.loc[qq['pvalue'] > 0.5, 'pvalue level'] = 'не значимо'\n",
    "    qq.loc[qq['pvalue'] == 0.5, 'pvalue level'] = 'не значимо'\n",
    "\n",
    "\n",
    "    \n",
    "else:\n",
    "    print('нет корреляций по пирсону')\n",
    "    \n",
    "pearson_frame[:1000]"
   ]
  },
  {
   "cell_type": "code",
   "execution_count": null,
   "metadata": {},
   "outputs": [],
   "source": [
    "if len(pearson_fin) !=0:\n",
    "    writer = pd.ExcelWriter('pearson.xlsx', engine='xlsxwriter')\n",
    "\n",
    "    pearson_frame.to_excel(writer,\n",
    "                    sheet_name='Sheet_name_1')\n",
    "\n",
    "    writer.save()\n",
    "    \n",
    "else:\n",
    "    print('нет корреляций по пирсону')"
   ]
  },
  {
   "cell_type": "markdown",
   "metadata": {},
   "source": [
    "# ВИЗУАЛИЗАЦИЯ"
   ]
  },
  {
   "cell_type": "code",
   "execution_count": null,
   "metadata": {
    "scrolled": false
   },
   "outputs": [],
   "source": [
    "for i in ordinal:\n",
    "    z = df[i].value_counts()\n",
    "    z = pd.DataFrame(z)\n",
    "    z['name'] = z.index\n",
    "    z = z.sort_values(by=['name'])\n",
    "    z = z.applymap(str)\n",
    "\n",
    "\n",
    "    fig = px.histogram(z, x='name', y=z.columns[0], histfunc='avg', nbins=len(z))\n",
    "    fig.show()"
   ]
  },
  {
   "cell_type": "code",
   "execution_count": null,
   "metadata": {},
   "outputs": [],
   "source": [
    "for i in ordinal:\n",
    "    sns.countplot(df[i], color = \"black\")\n",
    "    plt.show();"
   ]
  },
  {
   "cell_type": "code",
   "execution_count": null,
   "metadata": {
    "scrolled": false
   },
   "outputs": [],
   "source": [
    "for i in nominal:\n",
    "    z = df[i].value_counts()\n",
    "    z = pd.DataFrame(z)\n",
    "    z['name'] = z.index\n",
    "    z = z.sort_values(by=['name'])\n",
    "    z = z.applymap(str)\n",
    "\n",
    "\n",
    "    fig = px.histogram(z, x='name', y=z.columns[0], histfunc='avg', nbins=len(z))\n",
    "    fig.show()"
   ]
  },
  {
   "cell_type": "code",
   "execution_count": null,
   "metadata": {},
   "outputs": [],
   "source": [
    "for i in nominal:\n",
    "    sns.countplot(df[i], color = \"black\")\n",
    "    plt.show();"
   ]
  },
  {
   "cell_type": "code",
   "execution_count": null,
   "metadata": {},
   "outputs": [],
   "source": [
    "for i in binaries:\n",
    "    print('процент положительных ответов:', i, df[i].value_counts()[1]/len(df[i]),'\\n')"
   ]
  },
  {
   "cell_type": "code",
   "execution_count": null,
   "metadata": {},
   "outputs": [],
   "source": [
    "for i in free_answers:\n",
    "    print(i,':\\n', Counter(df[i].to_string(index=False).replace('\\n','').lower().split()).most_common(40),'\\n')"
   ]
  },
  {
   "cell_type": "code",
   "execution_count": null,
   "metadata": {},
   "outputs": [],
   "source": [
    "#чтобы как в спсс\n",
    "\n",
    "import statsmodels.api as sm\n",
    "\n",
    "X_train2 = np.c_[X_train, np.ones_like(X_train)]\n",
    "\n",
    "X_train2 = np.c_[X_train, np.ones_like(X_train)]\n",
    "ols = sm.OLS(y_train, exog=X_train2)\n",
    "model = ols.fit()\n",
    "model.summary2() "
   ]
  }
 ],
 "metadata": {
  "hide_input": false,
  "kernelspec": {
   "display_name": "Python 3",
   "language": "python",
   "name": "python3"
  },
  "language_info": {
   "codemirror_mode": {
    "name": "ipython",
    "version": 3
   },
   "file_extension": ".py",
   "mimetype": "text/x-python",
   "name": "python",
   "nbconvert_exporter": "python",
   "pygments_lexer": "ipython3",
   "version": "3.7.3"
  },
  "toc": {
   "base_numbering": 1,
   "nav_menu": {},
   "number_sections": true,
   "sideBar": true,
   "skip_h1_title": false,
   "title_cell": "Table of Contents",
   "title_sidebar": "Contents",
   "toc_cell": false,
   "toc_position": {},
   "toc_section_display": true,
   "toc_window_display": false
  },
  "varInspector": {
   "cols": {
    "lenName": 16,
    "lenType": 16,
    "lenVar": 40
   },
   "kernels_config": {
    "python": {
     "delete_cmd_postfix": "",
     "delete_cmd_prefix": "del ",
     "library": "var_list.py",
     "varRefreshCmd": "print(var_dic_list())"
    },
    "r": {
     "delete_cmd_postfix": ") ",
     "delete_cmd_prefix": "rm(",
     "library": "var_list.r",
     "varRefreshCmd": "cat(var_dic_list()) "
    }
   },
   "types_to_exclude": [
    "module",
    "function",
    "builtin_function_or_method",
    "instance",
    "_Feature"
   ],
   "window_display": false
  }
 },
 "nbformat": 4,
 "nbformat_minor": 2
}
